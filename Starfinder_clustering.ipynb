{
 "cells": [
  {
   "cell_type": "code",
   "execution_count": 1,
   "id": "caring-sunset",
   "metadata": {},
   "outputs": [
    {
     "name": "stderr",
     "output_type": "stream",
     "text": [
      "[nltk_data] Downloading package stopwords to\n",
      "[nltk_data]     /home/jillian/nltk_data...\n",
      "[nltk_data]   Package stopwords is already up-to-date!\n",
      "[nltk_data] Downloading package wordnet to /home/jillian/nltk_data...\n",
      "[nltk_data]   Package wordnet is already up-to-date!\n"
     ]
    }
   ],
   "source": [
    "import pandas as pd\n",
    "from sklearn.feature_extraction.text import CountVectorizer \n",
    "from sklearn.decomposition import NMF\n",
    "import nltk\n",
    "nltk.download('stopwords') \n",
    "nltk.download('wordnet')\n",
    "import pandas as pd\n",
    "import glob\n",
    "from nltk.stem import WordNetLemmatizer\n",
    "from nltk.tokenize import RegexpTokenizer\n",
    "from nltk.corpus import stopwords\n",
    "from sklearn.feature_extraction.text import TfidfVectorizer\n",
    "import numpy as np\n",
    "import matplotlib.pyplot as plt\n",
    "import seaborn as sns"
   ]
  },
  {
   "cell_type": "code",
   "execution_count": 2,
   "id": "viral-minnesota",
   "metadata": {},
   "outputs": [],
   "source": [
    "df_text=pd.read_pickle('cleaned_sections.pkl')"
   ]
  },
  {
   "cell_type": "code",
   "execution_count": 3,
   "id": "covered-rotation",
   "metadata": {
    "scrolled": false
   },
   "outputs": [
    {
     "data": {
      "text/html": [
       "<div>\n",
       "<style scoped>\n",
       "    .dataframe tbody tr th:only-of-type {\n",
       "        vertical-align: middle;\n",
       "    }\n",
       "\n",
       "    .dataframe tbody tr th {\n",
       "        vertical-align: top;\n",
       "    }\n",
       "\n",
       "    .dataframe thead th {\n",
       "        text-align: right;\n",
       "    }\n",
       "</style>\n",
       "<table border=\"1\" class=\"dataframe\">\n",
       "  <thead>\n",
       "    <tr style=\"text-align: right;\">\n",
       "      <th></th>\n",
       "      <th>sect</th>\n",
       "    </tr>\n",
       "    <tr>\n",
       "      <th>source</th>\n",
       "      <th></th>\n",
       "    </tr>\n",
       "  </thead>\n",
       "  <tbody>\n",
       "    <tr>\n",
       "      <th>Dead_Suns_1</th>\n",
       "      <td>sunrise maiden</td>\n",
       "    </tr>\n",
       "    <tr>\n",
       "      <th>Dead_Suns_1</th>\n",
       "      <td>tier    sanjaval vagabond medium explorer spee...</td>\n",
       "    </tr>\n",
       "    <tr>\n",
       "      <th>Dead_Suns_1</th>\n",
       "      <td>sunrise maiden map key    bridge a  pilot s st...</td>\n",
       "    </tr>\n",
       "    <tr>\n",
       "      <th>Dead_Suns_1</th>\n",
       "      <td>fortune in the stars  take your station  chec...</td>\n",
       "    </tr>\n",
       "    <tr>\n",
       "      <th>Dead_Suns_1</th>\n",
       "      <td>the starfinder adventure path is designed to p...</td>\n",
       "    </tr>\n",
       "    <tr>\n",
       "      <th>...</th>\n",
       "      <td>...</td>\n",
       "    </tr>\n",
       "    <tr>\n",
       "      <th>Dead_Suns_2</th>\n",
       "      <td></td>\n",
       "    </tr>\n",
       "    <tr>\n",
       "      <th>Dead_Suns_2</th>\n",
       "      <td></td>\n",
       "    </tr>\n",
       "    <tr>\n",
       "      <th>Dead_Suns_2</th>\n",
       "      <td>bulldoze  ex  when a yaruk uses its trample a...</td>\n",
       "    </tr>\n",
       "    <tr>\n",
       "      <th>Dead_Suns_2</th>\n",
       "      <td>yaruks are immense herbivores that can readily...</td>\n",
       "    </tr>\n",
       "    <tr>\n",
       "      <th>Dead_Suns_2</th>\n",
       "      <td>ratheren moon base of desperate survivors diam...</td>\n",
       "    </tr>\n",
       "  </tbody>\n",
       "</table>\n",
       "<p>6558 rows × 1 columns</p>\n",
       "</div>"
      ],
      "text/plain": [
       "                                                          sect\n",
       "source                                                        \n",
       "Dead_Suns_1                                     sunrise maiden\n",
       "Dead_Suns_1  tier    sanjaval vagabond medium explorer spee...\n",
       "Dead_Suns_1  sunrise maiden map key    bridge a  pilot s st...\n",
       "Dead_Suns_1   fortune in the stars  take your station  chec...\n",
       "Dead_Suns_1  the starfinder adventure path is designed to p...\n",
       "...                                                        ...\n",
       "Dead_Suns_2                                                   \n",
       "Dead_Suns_2                                                   \n",
       "Dead_Suns_2   bulldoze  ex  when a yaruk uses its trample a...\n",
       "Dead_Suns_2  yaruks are immense herbivores that can readily...\n",
       "Dead_Suns_2  ratheren moon base of desperate survivors diam...\n",
       "\n",
       "[6558 rows x 1 columns]"
      ]
     },
     "execution_count": 3,
     "metadata": {},
     "output_type": "execute_result"
    }
   ],
   "source": [
    "df_text"
   ]
  },
  {
   "cell_type": "markdown",
   "id": "streaming-vancouver",
   "metadata": {},
   "source": [
    "# Looking at word weights for topics"
   ]
  },
  {
   "cell_type": "code",
   "execution_count": 4,
   "id": "transsexual-bradley",
   "metadata": {},
   "outputs": [],
   "source": [
    "def preprocess_text(text):\n",
    "    from nltk.corpus import stopwords\n",
    "    #Tokenize words while ignoring punctuation\n",
    "    #letters only, strings longer than 2 letters\n",
    "    tokeniser = RegexpTokenizer(r'[A-Za-z]{3,}')\n",
    "    tokens = tokeniser.tokenize(text)\n",
    "     # Lowercase and lemmatise \n",
    "    lemmatiser = WordNetLemmatizer()\n",
    "    lemmas = [lemmatiser.lemmatize(token.lower(),pos='v') for token in tokens]\n",
    "    \n",
    "    # Remove creating and removing stopwords\n",
    "    stopwords= stopwords.words('english')\n",
    "    new_stopwords=['statistics','tactics','ecology','bulk','defense','offense','treasure',\n",
    "                  'mission','pcs','starfinder',]\n",
    "    stopwords.extend(new_stopwords)\n",
    "    keywords= [lemma for lemma in lemmas if lemma not in stopwords]\n",
    "    return keywords"
   ]
  },
  {
   "cell_type": "code",
   "execution_count": 5,
   "id": "foreign-horizon",
   "metadata": {},
   "outputs": [
    {
     "name": "stderr",
     "output_type": "stream",
     "text": [
      "/home/jillian/anaconda3/envs/metis/lib/python3.8/site-packages/sklearn/decomposition/_nmf.py:312: FutureWarning: The 'init' value, when 'init=None' and n_components is less than n_samples and n_features, will be changed from 'nndsvd' to 'nndsvda' in 1.1 (renaming of 0.26).\n",
      "  warnings.warn((\"The 'init' value, when 'init=None' and \"\n"
     ]
    }
   ],
   "source": [
    "vectorizer = CountVectorizer(analyzer=preprocess_text)\n",
    "doc_word = vectorizer.fit_transform(df_text.sect).toarray()\n",
    "vocab=np.array(vectorizer.get_feature_names())\n",
    "nmf_model = NMF(n_components=20,random_state=1,max_iter=500)\n",
    "doc_topic = nmf_model.fit_transform(doc_word)"
   ]
  },
  {
   "cell_type": "code",
   "execution_count": 6,
   "id": "developing-pioneer",
   "metadata": {},
   "outputs": [],
   "source": [
    "num_top_words=20\n",
    "topic_words=[]\n",
    "word_weights=[]\n",
    "for topic in nmf_model.components_:\n",
    "    word_idx=np.argsort(topic)[::-1][0:num_top_words]\n",
    "    topic_words.append([vocab[i]for i in word_idx])\n",
    "    word_weights.append([topic[i] for i in word_idx])"
   ]
  },
  {
   "cell_type": "code",
   "execution_count": 7,
   "id": "extreme-teens",
   "metadata": {
    "scrolled": true
   },
   "outputs": [
    {
     "data": {
      "text/html": [
       "<div>\n",
       "<style scoped>\n",
       "    .dataframe tbody tr th:only-of-type {\n",
       "        vertical-align: middle;\n",
       "    }\n",
       "\n",
       "    .dataframe tbody tr th {\n",
       "        vertical-align: top;\n",
       "    }\n",
       "\n",
       "    .dataframe thead th {\n",
       "        text-align: right;\n",
       "    }\n",
       "</style>\n",
       "<table border=\"1\" class=\"dataframe\">\n",
       "  <thead>\n",
       "    <tr style=\"text-align: right;\">\n",
       "      <th></th>\n",
       "      <th>topic_num</th>\n",
       "      <th>topic_words</th>\n",
       "      <th>word_weights</th>\n",
       "    </tr>\n",
       "  </thead>\n",
       "  <tbody>\n",
       "    <tr>\n",
       "      <th>0</th>\n",
       "      <td>0</td>\n",
       "      <td>[area, room, door, wall, open, contain, two, d...</td>\n",
       "      <td>[9.97374638074037, 9.449618779427167, 6.596032...</td>\n",
       "    </tr>\n",
       "    <tr>\n",
       "      <th>1</th>\n",
       "      <td>1</td>\n",
       "      <td>[worlds, pact, planet, world, within, species,...</td>\n",
       "      <td>[3.8169875366948705, 3.6485088680280295, 3.391...</td>\n",
       "    </tr>\n",
       "    <tr>\n",
       "      <th>2</th>\n",
       "      <td>2</td>\n",
       "      <td>[creature, save, effect, level, spell, target,...</td>\n",
       "      <td>[5.827686312322092, 3.8713668164890045, 3.7140...</td>\n",
       "    </tr>\n",
       "    <tr>\n",
       "      <th>3</th>\n",
       "      <td>3</td>\n",
       "      <td>[ship, starship, crew, drift, pilot, vessel, r...</td>\n",
       "      <td>[8.472871241607397, 3.6757667128425955, 2.7834...</td>\n",
       "    </tr>\n",
       "    <tr>\n",
       "      <th>4</th>\n",
       "      <td>4</td>\n",
       "      <td>[check, succeed, successful, attempt, one, tak...</td>\n",
       "      <td>[12.125767304686256, 4.171694463072509, 2.6107...</td>\n",
       "    </tr>\n",
       "    <tr>\n",
       "      <th>5</th>\n",
       "      <td>5</td>\n",
       "      <td>[swarm, hylax, components, suskillon, mind, sh...</td>\n",
       "      <td>[14.749066168864474, 2.2201792076875373, 2.073...</td>\n",
       "    </tr>\n",
       "    <tr>\n",
       "      <th>6</th>\n",
       "      <td>6</td>\n",
       "      <td>[fleet, corpse, eox, waneda, report, ministry,...</td>\n",
       "      <td>[7.69242280646353, 6.863704778171542, 2.954488...</td>\n",
       "    </tr>\n",
       "    <tr>\n",
       "      <th>7</th>\n",
       "      <td>7</td>\n",
       "      <td>[azlanti, empire, star, aeon, guard, drive, ru...</td>\n",
       "      <td>[7.585978765758309, 3.103753874626999, 2.94916...</td>\n",
       "    </tr>\n",
       "    <tr>\n",
       "      <th>8</th>\n",
       "      <td>8</td>\n",
       "      <td>[sun, diver, burn, archipelago, take, fire, kh...</td>\n",
       "      <td>[7.301512861346486, 3.4422420486308103, 2.4842...</td>\n",
       "    </tr>\n",
       "    <tr>\n",
       "      <th>9</th>\n",
       "      <td>9</td>\n",
       "      <td>[know, see, get, one, ask, might, like, take, ...</td>\n",
       "      <td>[3.755150725471599, 2.9200298720121087, 2.9041...</td>\n",
       "    </tr>\n",
       "    <tr>\n",
       "      <th>10</th>\n",
       "      <td>10</td>\n",
       "      <td>[security, train, grav, station, control, comp...</td>\n",
       "      <td>[5.4056181574973285, 2.9051037324975546, 2.449...</td>\n",
       "    </tr>\n",
       "    <tr>\n",
       "      <th>11</th>\n",
       "      <td>11</td>\n",
       "      <td>[shadow, plane, gragant, light, material, ecli...</td>\n",
       "      <td>[9.88976791492479, 6.2294107453397265, 3.15262...</td>\n",
       "    </tr>\n",
       "    <tr>\n",
       "      <th>12</th>\n",
       "      <td>12</td>\n",
       "      <td>[sivv, simulation, point, lucidity, gain, end,...</td>\n",
       "      <td>[4.911207656853207, 4.408702586556124, 3.43936...</td>\n",
       "    </tr>\n",
       "    <tr>\n",
       "      <th>13</th>\n",
       "      <td>13</td>\n",
       "      <td>[station, collective, astral, extractions, abs...</td>\n",
       "      <td>[5.565895074285472, 3.3926451665056754, 2.8489...</td>\n",
       "    </tr>\n",
       "    <tr>\n",
       "      <th>14</th>\n",
       "      <td>14</td>\n",
       "      <td>[cult, devourer, cultists, base, star, data, t...</td>\n",
       "      <td>[6.376140766327166, 4.979756896480642, 4.49370...</td>\n",
       "    </tr>\n",
       "    <tr>\n",
       "      <th>15</th>\n",
       "      <td>15</td>\n",
       "      <td>[prime, ark, station, fleet, absalom, sivv, fo...</td>\n",
       "      <td>[5.571612269705596, 5.506276754384986, 4.86267...</td>\n",
       "    </tr>\n",
       "    <tr>\n",
       "      <th>16</th>\n",
       "      <td>16</td>\n",
       "      <td>[dycepskian, host, dycepskians, body, fungus, ...</td>\n",
       "      <td>[4.566347100046907, 4.011543049310284, 2.53083...</td>\n",
       "    </tr>\n",
       "    <tr>\n",
       "      <th>17</th>\n",
       "      <td>17</td>\n",
       "      <td>[attack, damage, fire, weapon, hit, take, comb...</td>\n",
       "      <td>[7.217781709550791, 4.078685413105785, 2.60249...</td>\n",
       "    </tr>\n",
       "    <tr>\n",
       "      <th>18</th>\n",
       "      <td>18</td>\n",
       "      <td>[gray, use, find, see, computer, ring, facilit...</td>\n",
       "      <td>[8.583199649291064, 0.8099650597621709, 0.6760...</td>\n",
       "    </tr>\n",
       "    <tr>\n",
       "      <th>19</th>\n",
       "      <td>19</td>\n",
       "      <td>[kish, city, build, istamak, land, kishalee, s...</td>\n",
       "      <td>[3.480943145803037, 3.376066499091551, 2.44905...</td>\n",
       "    </tr>\n",
       "  </tbody>\n",
       "</table>\n",
       "</div>"
      ],
      "text/plain": [
       "    topic_num                                        topic_words  \\\n",
       "0           0  [area, room, door, wall, open, contain, two, d...   \n",
       "1           1  [worlds, pact, planet, world, within, species,...   \n",
       "2           2  [creature, save, effect, level, spell, target,...   \n",
       "3           3  [ship, starship, crew, drift, pilot, vessel, r...   \n",
       "4           4  [check, succeed, successful, attempt, one, tak...   \n",
       "5           5  [swarm, hylax, components, suskillon, mind, sh...   \n",
       "6           6  [fleet, corpse, eox, waneda, report, ministry,...   \n",
       "7           7  [azlanti, empire, star, aeon, guard, drive, ru...   \n",
       "8           8  [sun, diver, burn, archipelago, take, fire, kh...   \n",
       "9           9  [know, see, get, one, ask, might, like, take, ...   \n",
       "10         10  [security, train, grav, station, control, comp...   \n",
       "11         11  [shadow, plane, gragant, light, material, ecli...   \n",
       "12         12  [sivv, simulation, point, lucidity, gain, end,...   \n",
       "13         13  [station, collective, astral, extractions, abs...   \n",
       "14         14  [cult, devourer, cultists, base, star, data, t...   \n",
       "15         15  [prime, ark, station, fleet, absalom, sivv, fo...   \n",
       "16         16  [dycepskian, host, dycepskians, body, fungus, ...   \n",
       "17         17  [attack, damage, fire, weapon, hit, take, comb...   \n",
       "18         18  [gray, use, find, see, computer, ring, facilit...   \n",
       "19         19  [kish, city, build, istamak, land, kishalee, s...   \n",
       "\n",
       "                                         word_weights  \n",
       "0   [9.97374638074037, 9.449618779427167, 6.596032...  \n",
       "1   [3.8169875366948705, 3.6485088680280295, 3.391...  \n",
       "2   [5.827686312322092, 3.8713668164890045, 3.7140...  \n",
       "3   [8.472871241607397, 3.6757667128425955, 2.7834...  \n",
       "4   [12.125767304686256, 4.171694463072509, 2.6107...  \n",
       "5   [14.749066168864474, 2.2201792076875373, 2.073...  \n",
       "6   [7.69242280646353, 6.863704778171542, 2.954488...  \n",
       "7   [7.585978765758309, 3.103753874626999, 2.94916...  \n",
       "8   [7.301512861346486, 3.4422420486308103, 2.4842...  \n",
       "9   [3.755150725471599, 2.9200298720121087, 2.9041...  \n",
       "10  [5.4056181574973285, 2.9051037324975546, 2.449...  \n",
       "11  [9.88976791492479, 6.2294107453397265, 3.15262...  \n",
       "12  [4.911207656853207, 4.408702586556124, 3.43936...  \n",
       "13  [5.565895074285472, 3.3926451665056754, 2.8489...  \n",
       "14  [6.376140766327166, 4.979756896480642, 4.49370...  \n",
       "15  [5.571612269705596, 5.506276754384986, 4.86267...  \n",
       "16  [4.566347100046907, 4.011543049310284, 2.53083...  \n",
       "17  [7.217781709550791, 4.078685413105785, 2.60249...  \n",
       "18  [8.583199649291064, 0.8099650597621709, 0.6760...  \n",
       "19  [3.480943145803037, 3.376066499091551, 2.44905...  "
      ]
     },
     "execution_count": 7,
     "metadata": {},
     "output_type": "execute_result"
    }
   ],
   "source": [
    "topics_df=pd.DataFrame()\n",
    "topics_df['topic_num'] = list(range(len(nmf_model.components_)))\n",
    "topics_df['topic_words']=topic_words\n",
    "topics_df['word_weights']=word_weights\n",
    "topics_df.head(20)"
   ]
  },
  {
   "cell_type": "markdown",
   "id": "established-database",
   "metadata": {},
   "source": [
    "# Testing clustering\n",
    "\n",
    "Tested with multiple k values, due to the presence of so many different topics or clusters within each book the clusters are not very clearly defined"
   ]
  },
  {
   "cell_type": "code",
   "execution_count": 8,
   "id": "turned-broadcasting",
   "metadata": {},
   "outputs": [],
   "source": [
    "from sklearn.cluster import KMeans"
   ]
  },
  {
   "cell_type": "code",
   "execution_count": 9,
   "id": "color-expansion",
   "metadata": {},
   "outputs": [],
   "source": [
    "clustering = KMeans(n_clusters=10)\n",
    "clusters = clustering.fit_predict(doc_topic)"
   ]
  },
  {
   "cell_type": "code",
   "execution_count": 10,
   "id": "large-weekend",
   "metadata": {},
   "outputs": [
    {
     "data": {
      "text/plain": [
       "(6558,)"
      ]
     },
     "execution_count": 10,
     "metadata": {},
     "output_type": "execute_result"
    }
   ],
   "source": [
    "clusters.shape"
   ]
  },
  {
   "cell_type": "code",
   "execution_count": 11,
   "id": "aboriginal-matthew",
   "metadata": {},
   "outputs": [
    {
     "data": {
      "text/plain": [
       "6558"
      ]
     },
     "execution_count": 11,
     "metadata": {},
     "output_type": "execute_result"
    }
   ],
   "source": [
    "len(df_text.index)"
   ]
  },
  {
   "cell_type": "code",
   "execution_count": 12,
   "id": "exclusive-huntington",
   "metadata": {},
   "outputs": [
    {
     "data": {
      "text/html": [
       "<div>\n",
       "<style scoped>\n",
       "    .dataframe tbody tr th:only-of-type {\n",
       "        vertical-align: middle;\n",
       "    }\n",
       "\n",
       "    .dataframe tbody tr th {\n",
       "        vertical-align: top;\n",
       "    }\n",
       "\n",
       "    .dataframe thead th {\n",
       "        text-align: right;\n",
       "    }\n",
       "</style>\n",
       "<table border=\"1\" class=\"dataframe\">\n",
       "  <thead>\n",
       "    <tr style=\"text-align: right;\">\n",
       "      <th></th>\n",
       "      <th>section</th>\n",
       "      <th>cluster</th>\n",
       "    </tr>\n",
       "    <tr>\n",
       "      <th>source</th>\n",
       "      <th></th>\n",
       "      <th></th>\n",
       "    </tr>\n",
       "  </thead>\n",
       "  <tbody>\n",
       "    <tr>\n",
       "      <th>Dead_Suns_1</th>\n",
       "      <td>sunrise maiden</td>\n",
       "      <td>0</td>\n",
       "    </tr>\n",
       "    <tr>\n",
       "      <th>Dead_Suns_1</th>\n",
       "      <td>tier    sanjaval vagabond medium explorer spee...</td>\n",
       "      <td>2</td>\n",
       "    </tr>\n",
       "    <tr>\n",
       "      <th>Dead_Suns_1</th>\n",
       "      <td>sunrise maiden map key    bridge a  pilot s st...</td>\n",
       "      <td>0</td>\n",
       "    </tr>\n",
       "    <tr>\n",
       "      <th>Dead_Suns_1</th>\n",
       "      <td>fortune in the stars  take your station  chec...</td>\n",
       "      <td>9</td>\n",
       "    </tr>\n",
       "    <tr>\n",
       "      <th>Dead_Suns_1</th>\n",
       "      <td>the starfinder adventure path is designed to p...</td>\n",
       "      <td>0</td>\n",
       "    </tr>\n",
       "  </tbody>\n",
       "</table>\n",
       "</div>"
      ],
      "text/plain": [
       "                                                       section  cluster\n",
       "source                                                                 \n",
       "Dead_Suns_1                                     sunrise maiden        0\n",
       "Dead_Suns_1  tier    sanjaval vagabond medium explorer spee...        2\n",
       "Dead_Suns_1  sunrise maiden map key    bridge a  pilot s st...        0\n",
       "Dead_Suns_1   fortune in the stars  take your station  chec...        9\n",
       "Dead_Suns_1  the starfinder adventure path is designed to p...        0"
      ]
     },
     "execution_count": 12,
     "metadata": {},
     "output_type": "execute_result"
    }
   ],
   "source": [
    "book_clusters = pd.DataFrame()\n",
    "book_clusters['section'] = df_text.sect\n",
    "book_clusters['cluster'] = clusters\n",
    "book_clusters.head()"
   ]
  },
  {
   "cell_type": "code",
   "execution_count": 13,
   "id": "meaning-magnet",
   "metadata": {},
   "outputs": [
    {
     "data": {
      "text/plain": [
       "(6558, 2)"
      ]
     },
     "execution_count": 13,
     "metadata": {},
     "output_type": "execute_result"
    }
   ],
   "source": [
    "from sklearn.decomposition import PCA\n",
    "PCA = PCA(n_components=2, random_state=0)\n",
    "PCAxy = PCA.fit_transform(doc_topic)\n",
    "PCAxy.shape"
   ]
  },
  {
   "cell_type": "code",
   "execution_count": 14,
   "id": "pursuant-inquiry",
   "metadata": {},
   "outputs": [
    {
     "name": "stdout",
     "output_type": "stream",
     "text": [
      "[5 9 5 ... 1 5 1]\n"
     ]
    }
   ],
   "source": [
    "#Initialize the class object\n",
    "kmeans = KMeans(n_clusters= 10)\n",
    " \n",
    "#predict the labels of clusters.\n",
    "label = kmeans.fit_predict(PCAxy)\n",
    " \n",
    "print(label)"
   ]
  },
  {
   "cell_type": "code",
   "execution_count": 15,
   "id": "suspended-american",
   "metadata": {},
   "outputs": [
    {
     "data": {
      "image/png": "[encoded data removed]",
      "text/plain": [
       "<Figure size 432x288 with 1 Axes>"
      ]
     },
     "metadata": {
      "needs_background": "light"
     },
     "output_type": "display_data"
    }
   ],
   "source": [
    "#Getting the Centroids\n",
    "centroids = kmeans.cluster_centers_\n",
    "u_labels = np.unique(label)\n",
    " \n",
    "#plotting the results:\n",
    " \n",
    "for i in u_labels:\n",
    "    plt.scatter(PCAxy[label == i , 0] , PCAxy[label == i , 1] , label = i)\n",
    "plt.scatter(centroids[:,0] , centroids[:,1] , s = 15, color = 'k')\n",
    "plt.legend()\n",
    "plt.show()"
   ]
  },
  {
   "cell_type": "code",
   "execution_count": null,
   "id": "documentary-pleasure",
   "metadata": {},
   "outputs": [],
   "source": []
  }
 ],
 "metadata": {
  "kernelspec": {
   "display_name": "Python [conda env:metis] *",
   "language": "python",
   "name": "conda-env-metis-py"
  },
  "language_info": {
   "codemirror_mode": {
    "name": "ipython",
    "version": 3
   },
   "file_extension": ".py",
   "mimetype": "text/x-python",
   "name": "python",
   "nbconvert_exporter": "python",
   "pygments_lexer": "ipython3",
   "version": "3.8.6"
  }
 },
 "nbformat": 4,
 "nbformat_minor": 5
}
